{
 "cells": [
  {
   "cell_type": "markdown",
   "metadata": {},
   "source": [
    "# <center> Predição de Potenciais Clientes </center>"
   ]
  },
  {
   "cell_type": "markdown",
   "metadata": {},
   "source": [
    "### Bibliotecas Utilizadas"
   ]
  },
  {
   "cell_type": "code",
   "execution_count": 19,
   "metadata": {},
   "outputs": [],
   "source": [
    "import pandas as pd\n",
    "import matplotlib.pyplot as plt\n",
    "from sklearn.cluster import KMeans\n",
    "from yellowbrick.cluster import KElbowVisualizer\n",
    "from sklearn.decomposition import PCA"
   ]
  },
  {
   "cell_type": "markdown",
   "metadata": {},
   "source": [
    "### Consumo de base e definição de features"
   ]
  },
  {
   "cell_type": "code",
   "execution_count": 20,
   "metadata": {},
   "outputs": [
    {
     "data": {
      "text/plain": [
       "(92, 20)"
      ]
     },
     "execution_count": 20,
     "metadata": {},
     "output_type": "execute_result"
    }
   ],
   "source": [
    "base_forms = pd.read_excel(\"./Praceando.xlsx\")\n",
    "base_forms.shape"
   ]
  },
  {
   "cell_type": "markdown",
   "metadata": {},
   "source": [
    "### Tratamento das Features"
   ]
  },
  {
   "cell_type": "markdown",
   "metadata": {},
   "source": [
    "##### Removendo Features Redundantes"
   ]
  },
  {
   "cell_type": "code",
   "execution_count": 21,
   "metadata": {},
   "outputs": [
    {
     "data": {
      "text/plain": [
       "Você mora na cidade de São Paulo  Em que zona da cidade de São Paulo você mora?\n",
       "Sim                               Oeste                                            44\n",
       "                                  Norte                                            23\n",
       "                                  Sul                                               5\n",
       "                                  Leste                                             4\n",
       "                                  Centro                                            2\n",
       "Name: count, dtype: int64"
      ]
     },
     "execution_count": 21,
     "metadata": {},
     "output_type": "execute_result"
    }
   ],
   "source": [
    "base_forms[[\"Você mora na cidade de São Paulo\",\"Em que zona da cidade de São Paulo você mora?\"]].value_counts()"
   ]
  },
  {
   "cell_type": "code",
   "execution_count": 22,
   "metadata": {},
   "outputs": [],
   "source": [
    "base_forms = base_forms.drop([\"Hora de início\",\"Hora de conclusão\",\"Email\",\"Nome\",\"Você mora na cidade de São Paulo\",\"Deixe seu e-mail para ser notificado!\"],axis=1)"
   ]
  },
  {
   "cell_type": "markdown",
   "metadata": {},
   "source": [
    "##### Renomenando Features"
   ]
  },
  {
   "cell_type": "code",
   "execution_count": 23,
   "metadata": {},
   "outputs": [],
   "source": [
    "\n",
    "base_forms= base_forms.rename(columns={\n",
    "    \"Qual é a sua faixa etária?\":\"faixa_etaria\",\n",
    "    \"Em que zona da cidade de São Paulo você mora?\":\"regiao\",\n",
    "    \"Você costuma organizar ou participar de eventos em praças e parques?\":\"tipo_usuario\",\n",
    "    \"Você encontra dificuldade em divulgar seus eventos?\":\"dificuldade_divulgacao\",\n",
    "    \"Você tem dificuldade em encontrar eventos?\":\"difuculdade_participacao\",\n",
    "    \"Você se considera um microempreendedor?\":\"is_microempreendedor\",\n",
    "    \"Como você costuma divulgar seus eventos atualmente? (Selecione todas as opções que se aplicam)\":\"meios_divulgacao\",\n",
    "    \"Com que frequência você organiza eventos em espaços públicos como praças e parques?\":\"frequencia_divulgacao\",\n",
    "    \"Qual seria a sua disposição para pagar um valor simbólico para anunciar seus eventos em um aplicativo especializado em praças e parques?\":\"pagar_divulgacao\",\n",
    "    \"Se você utiliza ou utilizaria um aplicativo para promover seus eventos, qual das seguintes funcionalidades seria mais útil para você?\":\"funcionalidades_divulgacao\",\n",
    "    \"Que tipo de evento você organiza ou participaria em praças ou parques (Selecione todos que se aplicam)\":\"interesse_eventos\",\n",
    "    \"Quais fatores são mais importantes para você na escolha de um aplicativo de divulgação de eventos?\":\"fatores_app\",\n",
    "    \"Você gostaria de ser notificado quando o aplicativo Praceando expandir sua atuação para novas regiões ou oferecer novas funcionalidades?\":\"receber_notificacao\"\n",
    "})"
   ]
  },
  {
   "cell_type": "markdown",
   "metadata": {},
   "source": [
    "##### Tratamento de Nulos e Nans"
   ]
  },
  {
   "cell_type": "code",
   "execution_count": 24,
   "metadata": {},
   "outputs": [],
   "source": [
    "base_forms[\"regiao\"] = base_forms[\"regiao\"].fillna(\"N/A Regiao\")\n",
    "base_forms[\"dificuldade_divulgacao\"] = base_forms[\"dificuldade_divulgacao\"].fillna(\"Não\")\n",
    "base_forms[\"difuculdade_participacao\"] = base_forms[\"difuculdade_participacao\"].fillna(\"Não\")\n",
    "base_forms[\"is_microempreendedor\"] = base_forms[\"is_microempreendedor\"].fillna(\"Não\")\n",
    "base_forms[\"meios_divulgacao\"] = base_forms[\"meios_divulgacao\"].fillna(\"Não costumo divulgar\")\n",
    "base_forms[\"frequencia_divulgacao\"] = base_forms[\"frequencia_divulgacao\"].fillna(\"Não costumo divulgar\")\n",
    "base_forms[\"pagar_divulgacao\"] = base_forms[\"pagar_divulgacao\"].fillna(\"Não pagaria\")\n",
    "base_forms[\"funcionalidades_divulgacao\"] = base_forms[\"funcionalidades_divulgacao\"].fillna(\"N/A Funcionalidades\")"
   ]
  },
  {
   "cell_type": "markdown",
   "metadata": {},
   "source": [
    "##### Tratamento personalizado"
   ]
  },
  {
   "cell_type": "code",
   "execution_count": 25,
   "metadata": {},
   "outputs": [],
   "source": [
    "for i in base_forms.columns:\n",
    "    base_forms[i] = base_forms[i].apply(lambda x: x.lower().strip() if type(x)==str else x)\n",
    "\n",
    "base_forms[\"meios_divulgacao\"] = base_forms[\"meios_divulgacao\"].apply(lambda x: x[:-1].lower().replace(\" \",\"_\").split(\";\") if x.split(\";\")[-1]==\"\" else x.lower().replace(\" \",\"_\").split(\";\"))\n",
    "base_forms = base_forms.explode(\"meios_divulgacao\")\n",
    "base_forms[\"meios_divulgacao\"] = base_forms[\"meios_divulgacao\"].replace({\"não_costumo_divulga\":\"não_costumo_divulgar\",\"redes_sociais_(instagram,_facebook,_etc.)\":\"redes_sociais\"})\n",
    "base_forms = base_forms.drop([\"funcionalidades_divulgacao\",\"interesse_eventos\",\"fatores_app\"],axis=1)\n",
    "  "
   ]
  },
  {
   "cell_type": "code",
   "execution_count": 26,
   "metadata": {},
   "outputs": [],
   "source": [
    "base_forms = pd.get_dummies(base_forms, columns=[\"meios_divulgacao\"])\n",
    "base_forms_pre = base_forms.copy()"
   ]
  },
  {
   "cell_type": "code",
   "execution_count": 27,
   "metadata": {},
   "outputs": [],
   "source": [
    "base_forms_pre[\"faixa_etaria\"] = base_forms_pre[\"faixa_etaria\"].map({'menor que 18 anos':45,'entre 30 e 59 anos':45,'entre 18 e 30 anos':6,'mais que 60 anos':6})\n",
    "base_forms_pre[\"regiao\"] = base_forms_pre[\"regiao\"].map({'oeste':3,'norte':3,'leste':3,'n/a regiao':0, 'centro':3, 'sul':3})\n",
    "base_forms_pre[\"tipo_usuario\"] = base_forms_pre[\"tipo_usuario\"].map({'participo de eventos':100,'nenhum':-15,'ambos':80,'organizo eventos':45})\n",
    "base_forms_pre[\"dificuldade_divulgacao\"] = base_forms_pre[\"dificuldade_divulgacao\"].map({'sim':80,'não':18})\n",
    "base_forms_pre[\"difuculdade_participacao\"] = base_forms_pre[\"difuculdade_participacao\"].map({'sim':45,'não':9})\n",
    "base_forms_pre[\"is_microempreendedor\"] = base_forms_pre[\"is_microempreendedor\"].map({'não':9,'sim':18})\n",
    "base_forms_pre[\"meios_divulgacao_boca_a_boca\"] = base_forms_pre[\"meios_divulgacao_boca_a_boca\"].map({True:9,False:0})\n",
    "base_forms_pre[\"meios_divulgacao_não_costumo_divulgar\"] = base_forms_pre[\"meios_divulgacao_não_costumo_divulgar\"].map({True:-3,False:0})\n",
    "base_forms_pre[\"meios_divulgacao_panfletos/flyers\"] = base_forms_pre[\"meios_divulgacao_panfletos/flyers\"].map({True:9,False:0})\n",
    "base_forms_pre[\"meios_divulgacao_redes_sociais\"] = base_forms_pre[\"meios_divulgacao_redes_sociais\"].map({True:27,False:0})\n",
    "base_forms_pre[\"meios_divulgacao_sites_ou_blogs\"] = base_forms_pre[\"meios_divulgacao_sites_ou_blogs\"].map({True:27,False:0})                                                                                         \n",
    "base_forms_pre[\"frequencia_divulgacao\"] = base_forms_pre[\"frequencia_divulgacao\"].map({'não costumo divulgar':-3,'raramente (1-2 vezes por ano)':18,'ocasionalmente (3-6 vezes por ano)':27,'frequentemente (7 ou mais vezes por ano)':45})\n",
    "base_forms_pre[\"pagar_divulgacao\"] = base_forms_pre[\"pagar_divulgacao\"].map({'com certeza pagaria':27,'pagaria dependendo do valor':18,'não pagaria':9})\n",
    "base_forms_pre[\"receber_notificacao\"] = base_forms_pre[\"receber_notificacao\"].map({'não':9,'sim':75})\n",
    "\n",
    "\t\t\t"
   ]
  },
  {
   "cell_type": "code",
   "execution_count": 28,
   "metadata": {},
   "outputs": [],
   "source": [
    "base_forms_pre = base_forms_pre.drop_duplicates(keep=\"first\")"
   ]
  },
  {
   "cell_type": "markdown",
   "metadata": {},
   "source": [
    "### Clusterização"
   ]
  },
  {
   "cell_type": "markdown",
   "metadata": {},
   "source": [
    "##### Aplicando PCA"
   ]
  },
  {
   "cell_type": "code",
   "execution_count": null,
   "metadata": {},
   "outputs": [],
   "source": [
    "pca = PCA().fit(base_forms_pre)\n",
    "plt.plot(range(1, len(pca.explained_variance_ratio_) + 1), \n",
    "         pca.explained_variance_ratio_.cumsum())\n",
    "plt.xlabel('Number of Components')\n",
    "plt.ylabel('Cumulative Explained Variance')\n",
    "plt.show()\n"
   ]
  },
  {
   "cell_type": "markdown",
   "metadata": {},
   "source": [
    "![Quantidade de PCAs](images_jupyter/quantidade_pca.png)\n"
   ]
  },
  {
   "cell_type": "markdown",
   "metadata": {},
   "source": [
    "##### Quantidade de Clusters\n"
   ]
  },
  {
   "cell_type": "code",
   "execution_count": null,
   "metadata": {},
   "outputs": [],
   "source": [
    "pca = PCA(n_components=3)\n",
    "base_forms_pca = pca.fit_transform(base_forms_pre)\n",
    "base_forms_pca = pd.DataFrame(base_forms_pca, columns=[f\"PCA{i+1}\" for i in range(3)])\n",
    "\n",
    "model = KMeans()\n",
    "visualizer = KElbowVisualizer(model, k=20, metric=\"silhouette\", distance_metric='euclidean')\n",
    "visualizer.fit(base_forms_pca)\n",
    "visualizer.show()"
   ]
  },
  {
   "cell_type": "markdown",
   "metadata": {},
   "source": [
    "![Quantidade de Clusters](images_jupyter/quantidade_cluster.png)"
   ]
  },
  {
   "cell_type": "code",
   "execution_count": 37,
   "metadata": {},
   "outputs": [
    {
     "name": "stdout",
     "output_type": "stream",
     "text": [
      "[2 2 3 0 2 0 3 1 1 5 0 3 3 5 0 5 0 0 5 0 0 0 0 5 3 5 1 1 3 0 0 3 3 5 2 0 0\n",
      " 5 0 2 2 2 2 5 2 5 3 2 5 1 3 1 2 2 4 4 2 3 0 3 0 0 0 3 3 2 2 0 2 1 1 3 3 2\n",
      " 0 3 0 1 1 0 2 4 4 0 0 2 3 2 2 2 0 4 4 4 4 4 4 4]\n"
     ]
    }
   ],
   "source": [
    "from sklearn.cluster import KMeans\n",
    "\n",
    "modelo = KMeans(n_clusters =6, random_state=42, n_init=\"auto\", algorithm='elkan', max_iter=500)\n",
    "\n",
    "base_forms_pca = pd.DataFrame(base_forms_pca, columns=[f\"PCA{i+1}\" for i in range(3)])\n",
    "modelo.fit(base_forms_pca)\n",
    "\n",
    "centers = modelo.cluster_centers_  \n",
    "\n",
    "labels = modelo.labels_\n",
    "\n",
    "print(labels)"
   ]
  },
  {
   "cell_type": "code",
   "execution_count": 38,
   "metadata": {},
   "outputs": [],
   "source": [
    "\n",
    "base_forms['Cluster'] = labels\n",
    "cluster_0 = base_forms.loc[base_forms['Cluster'] == 0]\n",
    "cluster_1 = base_forms.loc[base_forms['Cluster'] == 1]\n",
    "cluster_2 = base_forms.loc[base_forms['Cluster'] == 2]\n",
    "cluster_3 = base_forms.loc[base_forms['Cluster'] == 3]\n",
    "cluster_4 = base_forms.loc[base_forms['Cluster'] == 4]\n",
    "cluster_5 = base_forms.loc[base_forms['Cluster'] == 5]\n",
    "\n"
   ]
  },
  {
   "cell_type": "code",
   "execution_count": null,
   "metadata": {},
   "outputs": [],
   "source": [
    "import matplotlib.pyplot as plt\n",
    "from mpl_toolkits.mplot3d import Axes3D  # Importa o módulo para gráficos 3D\n",
    "\n",
    "# Configura a figura em 3D\n",
    "fig = plt.figure(figsize=(10, 8))\n",
    "ax = fig.add_subplot(111, projection='3d')\n",
    "\n",
    "# Cria o scatter plot em 3D com os três eixos PCA\n",
    "scatter = ax.scatter(\n",
    "    base_forms_pca['PCA1'],  # Eixo X\n",
    "    base_forms_pca['PCA2'],  # Eixo Y\n",
    "    base_forms_pca['PCA3'],  # Eixo Z\n",
    "    c=labels,                # Colore pelos labels\n",
    "    edgecolor='k', \n",
    "    s=50, \n",
    "    cmap='viridis'\n",
    ")\n",
    "\n",
    "# Configura os rótulos dos eixos\n",
    "ax.set_xlabel('PCA1')\n",
    "ax.set_ylabel('PCA2')\n",
    "ax.set_zlabel('PCA3')\n",
    "ax.set_title('Visualizando os dados com PCA em 3D')\n",
    "\n",
    "# Adiciona a legenda\n",
    "legend = ax.legend(*scatter.legend_elements(), title=\"Labels\")\n",
    "ax.add_artist(legend)\n",
    "\n",
    "plt.show()"
   ]
  },
  {
   "cell_type": "markdown",
   "metadata": {},
   "source": [
    "![Visualizaçã dos Clusters](images_jupyter/visualizacao_cluster.png)\n"
   ]
  },
  {
   "cell_type": "code",
   "execution_count": 34,
   "metadata": {},
   "outputs": [
    {
     "data": {
      "text/plain": [
       "Id  faixa_etaria        regiao      tipo_usuario      dificuldade_divulgacao  difuculdade_participacao  is_microempreendedor  frequencia_divulgacao                     pagar_divulgacao             receber_notificacao  meios_divulgacao_boca_a_boca  meios_divulgacao_não_costumo_divulgar  meios_divulgacao_panfletos/flyers  meios_divulgacao_redes_sociais  meios_divulgacao_sites_ou_blogs  Cluster\n",
       "53  entre 30 e 59 anos  norte       organizo eventos  sim                     não                       sim                   ocasionalmente (3-6 vezes por ano)        pagaria dependendo do valor  não                  False                         False                                  False                              True                            False                            4          1\n",
       "                                                                                                                                                                                                                          True                          False                                  False                              False                           False                            4          1\n",
       "79  entre 30 e 59 anos  norte       organizo eventos  sim                     não                       sim                   frequentemente (7 ou mais vezes por ano)  com certeza pagaria          não                  False                         False                                  False                              True                            False                            4          1\n",
       "                                                                                                                                                                                                                          True                          False                                  False                              False                           False                            4          1\n",
       "88  entre 30 e 59 anos  norte       organizo eventos  sim                     não                       sim                   frequentemente (7 ou mais vezes por ano)  pagaria dependendo do valor  sim                  False                         False                                  False                              True                            False                            4          1\n",
       "                                                                                                                                                                                                                          True                          False                                  False                              False                           False                            4          1\n",
       "89  entre 18 e 30 anos  sul         ambos             sim                     não                       sim                   ocasionalmente (3-6 vezes por ano)        com certeza pagaria          sim                  False                         False                                  True                               False                           False                            4          1\n",
       "90  entre 18 e 30 anos  oeste       organizo eventos  sim                     não                       sim                   frequentemente (7 ou mais vezes por ano)  com certeza pagaria          sim                  False                         False                                  False                              False                           True                             4          1\n",
       "91  entre 30 e 59 anos  centro      ambos             sim                     não                       sim                   ocasionalmente (3-6 vezes por ano)        com certeza pagaria          sim                  False                         False                                  False                              True                            False                            4          1\n",
       "92  mais que 60 anos    n/a regiao  organizo eventos  sim                     não                       sim                   frequentemente (7 ou mais vezes por ano)  pagaria dependendo do valor  sim                  False                         False                                  True                               False                           False                            4          1\n",
       "                                                                                                                                                                                                                          True                          False                                  False                              False                           False                            4          1\n",
       "Name: count, dtype: int64"
      ]
     },
     "execution_count": 34,
     "metadata": {},
     "output_type": "execute_result"
    }
   ],
   "source": [
    "cluster_4.value_counts()"
   ]
  },
  {
   "cell_type": "code",
   "execution_count": 40,
   "metadata": {},
   "outputs": [
    {
     "data": {
      "text/plain": [
       "Id  faixa_etaria        regiao      tipo_usuario          dificuldade_divulgacao  difuculdade_participacao  is_microempreendedor  frequencia_divulgacao               pagar_divulgacao             receber_notificacao  meios_divulgacao_boca_a_boca  meios_divulgacao_não_costumo_divulgar  meios_divulgacao_panfletos/flyers  meios_divulgacao_redes_sociais  meios_divulgacao_sites_ou_blogs  Cluster\n",
       "8   entre 30 e 59 anos  n/a regiao  ambos                 sim                     não                       não                   raramente (1-2 vezes por ano)       pagaria dependendo do valor  sim                  False                         False                                  False                              True                            False                            1          1\n",
       "                                                                                                                                                                                                                        True                          False                                  False                              False                           False                            1          1\n",
       "26  entre 30 e 59 anos  oeste       ambos                 não                     não                       não                   ocasionalmente (3-6 vezes por ano)  pagaria dependendo do valor  sim                  False                         False                                  True                               False                           False                            1          1\n",
       "                                                                                                                                                                                                                        True                          False                                  False                              False                           False                            1          1\n",
       "48  menor que 18 anos   n/a regiao  participo de eventos  não                     não                       não                   não costumo divulgar                não pagaria                  sim                  False                         True                                   False                              False                           False                            1          1\n",
       "50  menor que 18 anos   oeste       ambos                 sim                     não                       não                   raramente (1-2 vezes por ano)       pagaria dependendo do valor  sim                  False                         False                                  False                              True                            False                            1          1\n",
       "67  menor que 18 anos   norte       participo de eventos  não                     sim                       não                   não costumo divulgar                não pagaria                  sim                  False                         True                                   False                              False                           False                            1          1\n",
       "68  entre 30 e 59 anos  n/a regiao  participo de eventos  não                     sim                       não                   não costumo divulgar                não pagaria                  sim                  False                         True                                   False                              False                           False                            1          1\n",
       "75  menor que 18 anos   norte       participo de eventos  não                     sim                       não                   não costumo divulgar                não pagaria                  sim                  False                         True                                   False                              False                           False                            1          1\n",
       "76  menor que 18 anos   norte       participo de eventos  não                     sim                       não                   não costumo divulgar                não pagaria                  sim                  False                         True                                   False                              False                           False                            1          1\n",
       "Name: count, dtype: int64"
      ]
     },
     "execution_count": 40,
     "metadata": {},
     "output_type": "execute_result"
    }
   ],
   "source": [
    "cluster_1.value_counts()    \n"
   ]
  },
  {
   "cell_type": "code",
   "execution_count": 43,
   "metadata": {},
   "outputs": [
    {
     "data": {
      "text/plain": [
       "Id  faixa_etaria        regiao      tipo_usuario          dificuldade_divulgacao  difuculdade_participacao  is_microempreendedor  frequencia_divulgacao               pagar_divulgacao             receber_notificacao  meios_divulgacao_boca_a_boca  meios_divulgacao_não_costumo_divulgar  meios_divulgacao_panfletos/flyers  meios_divulgacao_redes_sociais  meios_divulgacao_sites_ou_blogs  Cluster\n",
       "9   entre 30 e 59 anos  oeste       ambos                 não                     não                       não                   ocasionalmente (3-6 vezes por ano)  pagaria dependendo do valor  sim                  False                         False                                  False                              True                            False                            5          1\n",
       "13  entre 30 e 59 anos  n/a regiao  participo de eventos  não                     sim                       não                   não costumo divulgar                não pagaria                  sim                  False                         True                                   False                              False                           False                            5          1\n",
       "15  entre 18 e 30 anos  n/a regiao  participo de eventos  não                     sim                       não                   não costumo divulgar                não pagaria                  sim                  False                         True                                   False                              False                           False                            5          1\n",
       "18  entre 30 e 59 anos  oeste       participo de eventos  não                     sim                       não                   não costumo divulgar                não pagaria                  sim                  False                         True                                   False                              False                           False                            5          1\n",
       "23  mais que 60 anos    leste       participo de eventos  não                     não                       não                   não costumo divulgar                não pagaria                  sim                  False                         True                                   False                              False                           False                            5          1\n",
       "25  entre 30 e 59 anos  oeste       participo de eventos  não                     não                       não                   não costumo divulgar                não pagaria                  sim                  False                         True                                   False                              False                           False                            5          1\n",
       "32  menor que 18 anos   norte       participo de eventos  não                     sim                       não                   não costumo divulgar                não pagaria                  sim                  False                         True                                   False                              False                           False                            5          1\n",
       "36  menor que 18 anos   n/a regiao  participo de eventos  não                     sim                       não                   não costumo divulgar                não pagaria                  sim                  False                         True                                   False                              False                           False                            5          1\n",
       "42  menor que 18 anos   norte       participo de eventos  não                     sim                       não                   não costumo divulgar                não pagaria                  sim                  False                         True                                   False                              False                           False                            5          1\n",
       "44  entre 18 e 30 anos  oeste       participo de eventos  não                     sim                       não                   não costumo divulgar                não pagaria                  sim                  False                         True                                   False                              False                           False                            5          1\n",
       "47  menor que 18 anos   oeste       participo de eventos  não                     sim                       não                   não costumo divulgar                não pagaria                  sim                  False                         True                                   False                              False                           False                            5          1\n",
       "Name: count, dtype: int64"
      ]
     },
     "execution_count": 43,
     "metadata": {},
     "output_type": "execute_result"
    }
   ],
   "source": [
    "cluster_5.value_counts()"
   ]
  },
  {
   "cell_type": "markdown",
   "metadata": {},
   "source": [
    "### Resultados\n",
    "\n",
    "- Sim: seria um possivel anunciante\n",
    "\n",
    "    - Alguns do Cluster 1\n",
    "    - Alguns do Cluster 2\n",
    "    - Todos do Cluster  4\n",
    "    - Alguns do Cluster 5\n",
    "\n",
    "\n",
    "- Não: não seria um possível anunciante \n",
    "    \n",
    "    - Todos do Cluster 0\n",
    "    - Alguns do Cluster 1\n",
    "    - Alguns do Cluster 2\n",
    "    - Todos do Cluster 3\n",
    "    - Alguns do Cluster 5\n"
   ]
  },
  {
   "cell_type": "code",
   "execution_count": 48,
   "metadata": {},
   "outputs": [
    {
     "data": {
      "text/plain": [
       "Id  faixa_etaria        regiao      tipo_usuario          dificuldade_divulgacao  difuculdade_participacao  is_microempreendedor  frequencia_divulgacao               pagar_divulgacao             receber_notificacao  meios_divulgacao_boca_a_boca  meios_divulgacao_não_costumo_divulgar  meios_divulgacao_panfletos/flyers  meios_divulgacao_redes_sociais  meios_divulgacao_sites_ou_blogs  Cluster\n",
       "9   entre 30 e 59 anos  oeste       ambos                 não                     não                       não                   ocasionalmente (3-6 vezes por ano)  pagaria dependendo do valor  sim                  False                         False                                  False                              True                            False                            5          1\n",
       "13  entre 30 e 59 anos  n/a regiao  participo de eventos  não                     sim                       não                   não costumo divulgar                não pagaria                  sim                  False                         True                                   False                              False                           False                            5          1\n",
       "15  entre 18 e 30 anos  n/a regiao  participo de eventos  não                     sim                       não                   não costumo divulgar                não pagaria                  sim                  False                         True                                   False                              False                           False                            5          1\n",
       "18  entre 30 e 59 anos  oeste       participo de eventos  não                     sim                       não                   não costumo divulgar                não pagaria                  sim                  False                         True                                   False                              False                           False                            5          1\n",
       "23  mais que 60 anos    leste       participo de eventos  não                     não                       não                   não costumo divulgar                não pagaria                  sim                  False                         True                                   False                              False                           False                            5          1\n",
       "25  entre 30 e 59 anos  oeste       participo de eventos  não                     não                       não                   não costumo divulgar                não pagaria                  sim                  False                         True                                   False                              False                           False                            5          1\n",
       "32  menor que 18 anos   norte       participo de eventos  não                     sim                       não                   não costumo divulgar                não pagaria                  sim                  False                         True                                   False                              False                           False                            5          1\n",
       "36  menor que 18 anos   n/a regiao  participo de eventos  não                     sim                       não                   não costumo divulgar                não pagaria                  sim                  False                         True                                   False                              False                           False                            5          1\n",
       "42  menor que 18 anos   norte       participo de eventos  não                     sim                       não                   não costumo divulgar                não pagaria                  sim                  False                         True                                   False                              False                           False                            5          1\n",
       "44  entre 18 e 30 anos  oeste       participo de eventos  não                     sim                       não                   não costumo divulgar                não pagaria                  sim                  False                         True                                   False                              False                           False                            5          1\n",
       "47  menor que 18 anos   oeste       participo de eventos  não                     sim                       não                   não costumo divulgar                não pagaria                  sim                  False                         True                                   False                              False                           False                            5          1\n",
       "Name: count, dtype: int64"
      ]
     },
     "execution_count": 48,
     "metadata": {},
     "output_type": "execute_result"
    }
   ],
   "source": [
    "cluster_5.value_counts()"
   ]
  },
  {
   "cell_type": "code",
   "execution_count": 50,
   "metadata": {},
   "outputs": [],
   "source": [
    "base_forms[\"is_anuncinate\"] = 0\n",
    "\n",
    "base_forms.loc[(base_forms['Cluster'] == 1)&(base_forms['Id'].isin([8,26,48,50])), 'is_anuncinate'] = 1\n",
    "base_forms.loc[(base_forms['Cluster'] == 2)&(base_forms['Id'].isin([1,2])), 'is_anuncinate'] = 1\n",
    "base_forms.loc[base_forms['Cluster'] == 4, 'is_anuncinate'] =1\n",
    "base_forms.loc[(base_forms['Cluster'] == 5)&(base_forms['Id'] == 9), 'is_anuncinate'] = 1"
   ]
  },
  {
   "cell_type": "code",
   "execution_count": 52,
   "metadata": {},
   "outputs": [
    {
     "data": {
      "text/html": [
       "<div>\n",
       "<style scoped>\n",
       "    .dataframe tbody tr th:only-of-type {\n",
       "        vertical-align: middle;\n",
       "    }\n",
       "\n",
       "    .dataframe tbody tr th {\n",
       "        vertical-align: top;\n",
       "    }\n",
       "\n",
       "    .dataframe thead th {\n",
       "        text-align: right;\n",
       "    }\n",
       "</style>\n",
       "<table border=\"1\" class=\"dataframe\">\n",
       "  <thead>\n",
       "    <tr style=\"text-align: right;\">\n",
       "      <th></th>\n",
       "      <th>Id</th>\n",
       "      <th>faixa_etaria</th>\n",
       "      <th>regiao</th>\n",
       "      <th>tipo_usuario</th>\n",
       "      <th>dificuldade_divulgacao</th>\n",
       "      <th>difuculdade_participacao</th>\n",
       "      <th>is_microempreendedor</th>\n",
       "      <th>frequencia_divulgacao</th>\n",
       "      <th>pagar_divulgacao</th>\n",
       "      <th>receber_notificacao</th>\n",
       "      <th>meios_divulgacao_boca_a_boca</th>\n",
       "      <th>meios_divulgacao_não_costumo_divulgar</th>\n",
       "      <th>meios_divulgacao_panfletos/flyers</th>\n",
       "      <th>meios_divulgacao_redes_sociais</th>\n",
       "      <th>meios_divulgacao_sites_ou_blogs</th>\n",
       "      <th>is_anuncinate</th>\n",
       "    </tr>\n",
       "  </thead>\n",
       "  <tbody>\n",
       "    <tr>\n",
       "      <th>0</th>\n",
       "      <td>1</td>\n",
       "      <td>menor que 18 anos</td>\n",
       "      <td>oeste</td>\n",
       "      <td>participo de eventos</td>\n",
       "      <td>não</td>\n",
       "      <td>sim</td>\n",
       "      <td>não</td>\n",
       "      <td>não costumo divulgar</td>\n",
       "      <td>com certeza pagaria</td>\n",
       "      <td>não</td>\n",
       "      <td>False</td>\n",
       "      <td>True</td>\n",
       "      <td>False</td>\n",
       "      <td>False</td>\n",
       "      <td>False</td>\n",
       "      <td>1</td>\n",
       "    </tr>\n",
       "    <tr>\n",
       "      <th>1</th>\n",
       "      <td>2</td>\n",
       "      <td>menor que 18 anos</td>\n",
       "      <td>norte</td>\n",
       "      <td>participo de eventos</td>\n",
       "      <td>não</td>\n",
       "      <td>sim</td>\n",
       "      <td>não</td>\n",
       "      <td>não costumo divulgar</td>\n",
       "      <td>pagaria dependendo do valor</td>\n",
       "      <td>não</td>\n",
       "      <td>False</td>\n",
       "      <td>True</td>\n",
       "      <td>False</td>\n",
       "      <td>False</td>\n",
       "      <td>False</td>\n",
       "      <td>1</td>\n",
       "    </tr>\n",
       "    <tr>\n",
       "      <th>2</th>\n",
       "      <td>3</td>\n",
       "      <td>entre 30 e 59 anos</td>\n",
       "      <td>norte</td>\n",
       "      <td>nenhum</td>\n",
       "      <td>não</td>\n",
       "      <td>não</td>\n",
       "      <td>não</td>\n",
       "      <td>não costumo divulgar</td>\n",
       "      <td>não pagaria</td>\n",
       "      <td>não</td>\n",
       "      <td>False</td>\n",
       "      <td>True</td>\n",
       "      <td>False</td>\n",
       "      <td>False</td>\n",
       "      <td>False</td>\n",
       "      <td>0</td>\n",
       "    </tr>\n",
       "    <tr>\n",
       "      <th>3</th>\n",
       "      <td>4</td>\n",
       "      <td>entre 30 e 59 anos</td>\n",
       "      <td>oeste</td>\n",
       "      <td>nenhum</td>\n",
       "      <td>não</td>\n",
       "      <td>não</td>\n",
       "      <td>não</td>\n",
       "      <td>não costumo divulgar</td>\n",
       "      <td>não pagaria</td>\n",
       "      <td>sim</td>\n",
       "      <td>False</td>\n",
       "      <td>True</td>\n",
       "      <td>False</td>\n",
       "      <td>False</td>\n",
       "      <td>False</td>\n",
       "      <td>0</td>\n",
       "    </tr>\n",
       "    <tr>\n",
       "      <th>4</th>\n",
       "      <td>5</td>\n",
       "      <td>entre 18 e 30 anos</td>\n",
       "      <td>norte</td>\n",
       "      <td>participo de eventos</td>\n",
       "      <td>não</td>\n",
       "      <td>sim</td>\n",
       "      <td>não</td>\n",
       "      <td>não costumo divulgar</td>\n",
       "      <td>não pagaria</td>\n",
       "      <td>não</td>\n",
       "      <td>False</td>\n",
       "      <td>True</td>\n",
       "      <td>False</td>\n",
       "      <td>False</td>\n",
       "      <td>False</td>\n",
       "      <td>0</td>\n",
       "    </tr>\n",
       "    <tr>\n",
       "      <th>...</th>\n",
       "      <td>...</td>\n",
       "      <td>...</td>\n",
       "      <td>...</td>\n",
       "      <td>...</td>\n",
       "      <td>...</td>\n",
       "      <td>...</td>\n",
       "      <td>...</td>\n",
       "      <td>...</td>\n",
       "      <td>...</td>\n",
       "      <td>...</td>\n",
       "      <td>...</td>\n",
       "      <td>...</td>\n",
       "      <td>...</td>\n",
       "      <td>...</td>\n",
       "      <td>...</td>\n",
       "      <td>...</td>\n",
       "    </tr>\n",
       "    <tr>\n",
       "      <th>88</th>\n",
       "      <td>89</td>\n",
       "      <td>entre 18 e 30 anos</td>\n",
       "      <td>sul</td>\n",
       "      <td>ambos</td>\n",
       "      <td>sim</td>\n",
       "      <td>não</td>\n",
       "      <td>sim</td>\n",
       "      <td>ocasionalmente (3-6 vezes por ano)</td>\n",
       "      <td>com certeza pagaria</td>\n",
       "      <td>sim</td>\n",
       "      <td>False</td>\n",
       "      <td>False</td>\n",
       "      <td>True</td>\n",
       "      <td>False</td>\n",
       "      <td>False</td>\n",
       "      <td>1</td>\n",
       "    </tr>\n",
       "    <tr>\n",
       "      <th>89</th>\n",
       "      <td>90</td>\n",
       "      <td>entre 18 e 30 anos</td>\n",
       "      <td>oeste</td>\n",
       "      <td>organizo eventos</td>\n",
       "      <td>sim</td>\n",
       "      <td>não</td>\n",
       "      <td>sim</td>\n",
       "      <td>frequentemente (7 ou mais vezes por ano)</td>\n",
       "      <td>com certeza pagaria</td>\n",
       "      <td>sim</td>\n",
       "      <td>False</td>\n",
       "      <td>False</td>\n",
       "      <td>False</td>\n",
       "      <td>False</td>\n",
       "      <td>True</td>\n",
       "      <td>1</td>\n",
       "    </tr>\n",
       "    <tr>\n",
       "      <th>90</th>\n",
       "      <td>91</td>\n",
       "      <td>entre 30 e 59 anos</td>\n",
       "      <td>centro</td>\n",
       "      <td>ambos</td>\n",
       "      <td>sim</td>\n",
       "      <td>não</td>\n",
       "      <td>sim</td>\n",
       "      <td>ocasionalmente (3-6 vezes por ano)</td>\n",
       "      <td>com certeza pagaria</td>\n",
       "      <td>sim</td>\n",
       "      <td>False</td>\n",
       "      <td>False</td>\n",
       "      <td>False</td>\n",
       "      <td>True</td>\n",
       "      <td>False</td>\n",
       "      <td>1</td>\n",
       "    </tr>\n",
       "    <tr>\n",
       "      <th>91</th>\n",
       "      <td>92</td>\n",
       "      <td>mais que 60 anos</td>\n",
       "      <td>n/a regiao</td>\n",
       "      <td>organizo eventos</td>\n",
       "      <td>sim</td>\n",
       "      <td>não</td>\n",
       "      <td>sim</td>\n",
       "      <td>frequentemente (7 ou mais vezes por ano)</td>\n",
       "      <td>pagaria dependendo do valor</td>\n",
       "      <td>sim</td>\n",
       "      <td>True</td>\n",
       "      <td>False</td>\n",
       "      <td>False</td>\n",
       "      <td>False</td>\n",
       "      <td>False</td>\n",
       "      <td>1</td>\n",
       "    </tr>\n",
       "    <tr>\n",
       "      <th>91</th>\n",
       "      <td>92</td>\n",
       "      <td>mais que 60 anos</td>\n",
       "      <td>n/a regiao</td>\n",
       "      <td>organizo eventos</td>\n",
       "      <td>sim</td>\n",
       "      <td>não</td>\n",
       "      <td>sim</td>\n",
       "      <td>frequentemente (7 ou mais vezes por ano)</td>\n",
       "      <td>pagaria dependendo do valor</td>\n",
       "      <td>sim</td>\n",
       "      <td>False</td>\n",
       "      <td>False</td>\n",
       "      <td>True</td>\n",
       "      <td>False</td>\n",
       "      <td>False</td>\n",
       "      <td>1</td>\n",
       "    </tr>\n",
       "  </tbody>\n",
       "</table>\n",
       "<p>98 rows × 16 columns</p>\n",
       "</div>"
      ],
      "text/plain": [
       "    Id        faixa_etaria      regiao          tipo_usuario  \\\n",
       "0    1   menor que 18 anos       oeste  participo de eventos   \n",
       "1    2   menor que 18 anos       norte  participo de eventos   \n",
       "2    3  entre 30 e 59 anos       norte                nenhum   \n",
       "3    4  entre 30 e 59 anos       oeste                nenhum   \n",
       "4    5  entre 18 e 30 anos       norte  participo de eventos   \n",
       "..  ..                 ...         ...                   ...   \n",
       "88  89  entre 18 e 30 anos         sul                 ambos   \n",
       "89  90  entre 18 e 30 anos       oeste      organizo eventos   \n",
       "90  91  entre 30 e 59 anos      centro                 ambos   \n",
       "91  92    mais que 60 anos  n/a regiao      organizo eventos   \n",
       "91  92    mais que 60 anos  n/a regiao      organizo eventos   \n",
       "\n",
       "   dificuldade_divulgacao difuculdade_participacao is_microempreendedor  \\\n",
       "0                     não                      sim                  não   \n",
       "1                     não                      sim                  não   \n",
       "2                     não                      não                  não   \n",
       "3                     não                      não                  não   \n",
       "4                     não                      sim                  não   \n",
       "..                    ...                      ...                  ...   \n",
       "88                    sim                      não                  sim   \n",
       "89                    sim                      não                  sim   \n",
       "90                    sim                      não                  sim   \n",
       "91                    sim                      não                  sim   \n",
       "91                    sim                      não                  sim   \n",
       "\n",
       "                       frequencia_divulgacao             pagar_divulgacao  \\\n",
       "0                       não costumo divulgar          com certeza pagaria   \n",
       "1                       não costumo divulgar  pagaria dependendo do valor   \n",
       "2                       não costumo divulgar                  não pagaria   \n",
       "3                       não costumo divulgar                  não pagaria   \n",
       "4                       não costumo divulgar                  não pagaria   \n",
       "..                                       ...                          ...   \n",
       "88        ocasionalmente (3-6 vezes por ano)          com certeza pagaria   \n",
       "89  frequentemente (7 ou mais vezes por ano)          com certeza pagaria   \n",
       "90        ocasionalmente (3-6 vezes por ano)          com certeza pagaria   \n",
       "91  frequentemente (7 ou mais vezes por ano)  pagaria dependendo do valor   \n",
       "91  frequentemente (7 ou mais vezes por ano)  pagaria dependendo do valor   \n",
       "\n",
       "   receber_notificacao  meios_divulgacao_boca_a_boca  \\\n",
       "0                  não                         False   \n",
       "1                  não                         False   \n",
       "2                  não                         False   \n",
       "3                  sim                         False   \n",
       "4                  não                         False   \n",
       "..                 ...                           ...   \n",
       "88                 sim                         False   \n",
       "89                 sim                         False   \n",
       "90                 sim                         False   \n",
       "91                 sim                          True   \n",
       "91                 sim                         False   \n",
       "\n",
       "    meios_divulgacao_não_costumo_divulgar  meios_divulgacao_panfletos/flyers  \\\n",
       "0                                    True                              False   \n",
       "1                                    True                              False   \n",
       "2                                    True                              False   \n",
       "3                                    True                              False   \n",
       "4                                    True                              False   \n",
       "..                                    ...                                ...   \n",
       "88                                  False                               True   \n",
       "89                                  False                              False   \n",
       "90                                  False                              False   \n",
       "91                                  False                              False   \n",
       "91                                  False                               True   \n",
       "\n",
       "    meios_divulgacao_redes_sociais  meios_divulgacao_sites_ou_blogs  \\\n",
       "0                            False                            False   \n",
       "1                            False                            False   \n",
       "2                            False                            False   \n",
       "3                            False                            False   \n",
       "4                            False                            False   \n",
       "..                             ...                              ...   \n",
       "88                           False                            False   \n",
       "89                           False                             True   \n",
       "90                            True                            False   \n",
       "91                           False                            False   \n",
       "91                           False                            False   \n",
       "\n",
       "    is_anuncinate  \n",
       "0               1  \n",
       "1               1  \n",
       "2               0  \n",
       "3               0  \n",
       "4               0  \n",
       "..            ...  \n",
       "88              1  \n",
       "89              1  \n",
       "90              1  \n",
       "91              1  \n",
       "91              1  \n",
       "\n",
       "[98 rows x 16 columns]"
      ]
     },
     "execution_count": 52,
     "metadata": {},
     "output_type": "execute_result"
    }
   ],
   "source": [
    "base_forms = base_forms.drop(['Cluster'], axis=1)\n",
    "base_forms"
   ]
  },
  {
   "cell_type": "code",
   "execution_count": 53,
   "metadata": {},
   "outputs": [
    {
     "data": {
      "text/plain": [
       "is_anuncinate\n",
       "0    78\n",
       "1    20\n",
       "Name: count, dtype: int64"
      ]
     },
     "execution_count": 53,
     "metadata": {},
     "output_type": "execute_result"
    }
   ],
   "source": [
    "base_forms[\"is_anuncinate\"].value_counts()"
   ]
  }
 ],
 "metadata": {
  "kernelspec": {
   "display_name": "Python 3",
   "language": "python",
   "name": "python3"
  },
  "language_info": {
   "codemirror_mode": {
    "name": "ipython",
    "version": 3
   },
   "file_extension": ".py",
   "mimetype": "text/x-python",
   "name": "python",
   "nbconvert_exporter": "python",
   "pygments_lexer": "ipython3",
   "version": "3.11.3"
  }
 },
 "nbformat": 4,
 "nbformat_minor": 2
}
